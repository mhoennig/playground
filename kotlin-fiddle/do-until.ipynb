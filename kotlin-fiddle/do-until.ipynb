{
 "cells": [
  {
   "cell_type": "code",
   "metadata": {
    "collapsed": true,
    "ExecuteTime": {
     "end_time": "2025-09-02T08:37:02.238998Z",
     "start_time": "2025-09-02T08:37:02.008583Z"
    }
   },
   "source": [
    "fun loop(body: () -> Unit): () -> Unit {\n",
    "    return body\n",
    "}\n",
    "\n",
    "infix fun (() -> Unit).until(stop: () -> Boolean) {\n",
    "    while (!stop()) {\n",
    "        this()\n",
    "    }\n",
    "}\n",
    "\n",
    "var n = 4\n",
    "loop {\n",
    "    println(\"n = $n\")\n",
    "} until { --n < 0 }\n"
   ],
   "outputs": [
    {
     "name": "stdout",
     "output_type": "stream",
     "text": [
      "n = 3\n",
      "n = 2\n",
      "n = 1\n",
      "n = 0\n"
     ]
    }
   ],
   "execution_count": 5
  },
  {
   "metadata": {
    "ExecuteTime": {
     "end_time": "2025-09-02T08:37:02.313374Z",
     "start_time": "2025-09-02T08:37:02.309801Z"
    }
   },
   "cell_type": "code",
   "source": "",
   "outputs": [],
   "execution_count": null
  },
  {
   "metadata": {
    "ExecuteTime": {
     "end_time": "2025-09-02T09:08:00.478357Z",
     "start_time": "2025-09-02T09:07:57.524171Z"
    }
   },
   "cell_type": "code",
   "source": [
    "fun <T> loop(body: () -> T): () -> T = body\n",
    "\n",
    "inline infix fun <T> (() -> T).until(stop: (T) -> Boolean): T {\n",
    "    var last: T\n",
    "    do {\n",
    "        last = this()\n",
    "    } while (!stop(last))\n",
    "    return last\n",
    "}\n",
    "\n",
    "val last = loop {\n",
    "    print(\"> \")\n",
    "    readLine().also { println(\"you typed: $it\") }\n",
    "} until { it == null || it.length < 10 }\n",
    "println(\"last value was: $last\")"
   ],
   "outputs": [
    {
     "name": "stdout",
     "output_type": "stream",
     "text": [
      "> you typed: asdf\n",
      "last value was: asdf\n"
     ]
    }
   ],
   "execution_count": 2
  },
  {
   "metadata": {
    "ExecuteTime": {
     "end_time": "2025-09-02T09:20:34.289651Z",
     "start_time": "2025-09-02T09:20:33.470245Z"
    }
   },
   "cell_type": "code",
   "source": [
    "// --- iff { ... } then { ... } otherwise { ... } ---\n",
    "\n",
    "class If(val cond: () -> Boolean)\n",
    "class Then<T>(val cond: () -> Boolean, val then: () -> T)\n",
    "\n",
    "fun IF(cond: () -> Boolean) = If(cond)\n",
    "\n",
    "infix fun <T> If.THEN(then: () -> T) = Then(cond, then)\n",
    "\n",
    "inline infix fun <T> Then<T>.ELSE(els: () -> T): T =\n",
    "    if (cond()) then() else els()\n",
    "\n",
    "val x = 5\n",
    "val r = IF { x > 0 } THEN { \"positive\" } ELSE { \"non-positive\" }\n",
    "println(r)\n",
    "\n",
    "// --- whil { ... } doo { ... } ---\n",
    "\n",
    "class While(val cond: () -> Boolean)\n",
    "\n",
    "fun WHILE(cond: () -> Boolean) = While(cond)\n",
    "\n",
    "inline infix fun <T> While.DO(body: () -> T): T? {\n",
    "    var last: T? = null\n",
    "    while (cond()) last = body()\n",
    "    return last\n",
    "}\n",
    "\n",
    "var n = 3\n",
    "val last = WHILE { n > 0 } DO { println(\"n=$n\"); --n }\n",
    "println(\"last result = $last\")\n"
   ],
   "outputs": [
    {
     "name": "stdout",
     "output_type": "stream",
     "text": [
      "positive\n",
      "n=3\n",
      "n=2\n",
      "n=1\n",
      "last result = 0\n"
     ]
    }
   ],
   "execution_count": 12
  },
  {
   "metadata": {},
   "cell_type": "code",
   "outputs": [],
   "execution_count": null,
   "source": ""
  }
 ],
 "metadata": {
  "kernelspec": {
   "display_name": "Kotlin",
   "language": "kotlin",
   "name": "kotlin"
  },
  "language_info": {
   "name": "kotlin",
   "version": "2.2.20-Beta2",
   "mimetype": "text/x-kotlin",
   "file_extension": ".kt",
   "pygments_lexer": "kotlin",
   "codemirror_mode": "text/x-kotlin",
   "nbconvert_exporter": ""
  }
 },
 "nbformat": 4,
 "nbformat_minor": 0
}
